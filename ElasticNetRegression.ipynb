{
 "cells": [
  {
   "cell_type": "markdown",
   "metadata": {},
   "source": [
    "# ElasticNet Regression"
   ]
  },
  {
   "cell_type": "code",
   "execution_count": 7,
   "metadata": {},
   "outputs": [],
   "source": [
    "from sklearn.model_selection import train_test_split\n",
    "from sklearn.datasets import load_diabetes\n",
    "from sklearn.linear_model import LinearRegression,Ridge,Lasso,ElasticNet\n",
    "from sklearn.metrics import r2_score"
   ]
  },
  {
   "cell_type": "code",
   "execution_count": 2,
   "metadata": {},
   "outputs": [],
   "source": [
    "X,y = load_diabetes(return_X_y=True)\n",
    "X_train ,X_test ,Y_train ,Y_test = train_test_split(X,y,test_size=0.2,random_state=2)\n",
    "\n"
   ]
  },
  {
   "cell_type": "code",
   "execution_count": 4,
   "metadata": {},
   "outputs": [
    {
     "name": "stdout",
     "output_type": "stream",
     "text": [
      "r2_score 0.4399338661568968\n"
     ]
    }
   ],
   "source": [
    "# Linear Regression\n",
    "linear = LinearRegression()\n",
    "linear.fit(X_train,Y_train)\n",
    "liner_predict =linear.predict(X_test)\n",
    "print(\"r2_score\",r2_score(Y_test,liner_predict))"
   ]
  },
  {
   "cell_type": "code",
   "execution_count": 5,
   "metadata": {},
   "outputs": [
    {
     "name": "stdout",
     "output_type": "stream",
     "text": [
      "r2_score 0.45199494197195456\n"
     ]
    }
   ],
   "source": [
    "# Ridge \n",
    "ridge = Ridge(alpha=0.1)\n",
    "ridge.fit(X_train,Y_train)\n",
    "ridge_predict =ridge.predict(X_test)\n",
    "print('r2_score',r2_score(Y_test,ridge_predict))"
   ]
  },
  {
   "cell_type": "code",
   "execution_count": 6,
   "metadata": {},
   "outputs": [
    {
     "name": "stdout",
     "output_type": "stream",
     "text": [
      "r2_score 0.44111855963110613\n"
     ]
    }
   ],
   "source": [
    "# Lasso \n",
    "lasso =Lasso(alpha=0.01)\n",
    "lasso.fit(X_train,Y_train)\n",
    "lasso_predict = lasso.predict(X_test)\n",
    "print('r2_score',r2_score(Y_test,lasso_predict))"
   ]
  },
  {
   "cell_type": "code",
   "execution_count": 8,
   "metadata": {},
   "outputs": [
    {
     "name": "stdout",
     "output_type": "stream",
     "text": [
      "r2_score 0.4531474541554823\n"
     ]
    }
   ],
   "source": [
    "# ElasticNet Regression\n",
    "elasticNet = ElasticNet(alpha=0.005,l1_ratio=0.9)\n",
    "elasticNet.fit(X_train,Y_train)\n",
    "elasticNet_predict =elasticNet.predict(X_test)\n",
    "print('r2_score',r2_score(Y_test,elasticNet_predict))"
   ]
  },
  {
   "cell_type": "code",
   "execution_count": 11,
   "metadata": {},
   "outputs": [
    {
     "name": "stdout",
     "output_type": "stream",
     "text": [
      "r2_score 0.3933454502203886\n"
     ]
    },
    {
     "name": "stderr",
     "output_type": "stream",
     "text": [
      "C:\\Users\\dell\\AppData\\Roaming\\Python\\Python311\\site-packages\\sklearn\\linear_model\\_stochastic_gradient.py:1616: ConvergenceWarning: Maximum number of iteration reached before convergence. Consider increasing max_iter to improve the fit.\n",
      "  warnings.warn(\n"
     ]
    }
   ],
   "source": [
    "# using Sgd Regresser\n",
    "from sklearn.linear_model import SGDRegressor\n",
    "sgd =SGDRegressor(penalty='elasticnet')\n",
    "sgd.fit(X_train,Y_train)\n",
    "y_predict =sgd.predict(X_test)\n",
    "\n",
    "print('r2_score',r2_score(Y_test,y_predict))\n"
   ]
  },
  {
   "cell_type": "code",
   "execution_count": null,
   "metadata": {},
   "outputs": [],
   "source": []
  }
 ],
 "metadata": {
  "kernelspec": {
   "display_name": "Python 3",
   "language": "python",
   "name": "python3"
  },
  "language_info": {
   "codemirror_mode": {
    "name": "ipython",
    "version": 3
   },
   "file_extension": ".py",
   "mimetype": "text/x-python",
   "name": "python",
   "nbconvert_exporter": "python",
   "pygments_lexer": "ipython3",
   "version": "3.11.5"
  }
 },
 "nbformat": 4,
 "nbformat_minor": 2
}
