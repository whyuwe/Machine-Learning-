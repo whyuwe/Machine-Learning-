{
 "cells": [
  {
   "cell_type": "markdown",
   "metadata": {},
   "source": [
    "# Fetching data from websites "
   ]
  },
  {
   "cell_type": "code",
   "execution_count": 1,
   "metadata": {},
   "outputs": [],
   "source": [
    "import pandas as pd\n",
    "import requests\n",
    "from bs4 import BeautifulSoup"
   ]
  },
  {
   "cell_type": "code",
   "execution_count": 3,
   "metadata": {},
   "outputs": [],
   "source": [
    "headers ={'User-Agent' : 'Mozilla/5.0 (Windows NT 10.0; Win64; x64) AppleWebKit/537.36 (KHTML, like Gecko) Chrome/131.0.0.0 Safari/537.36'}\n",
    "url = 'https://www.ambitionbox.com/list-of-companies?page=1'\n",
    "\n"
   ]
  },
  {
   "cell_type": "code",
   "execution_count": 5,
   "metadata": {},
   "outputs": [],
   "source": [
    "headers = {\n",
    "    'User-Agent': 'Mozilla/5.0 (Windows NT 10.0; Win64; x64) AppleWebKit/537.36 (KHTML, like Gecko) Chrome/91.0.4472.124 Safari/537.36'\n",
    "}\n"
   ]
  },
  {
   "cell_type": "code",
   "execution_count": 7,
   "metadata": {},
   "outputs": [],
   "source": [
    "url1 =\"https://www.coursera.org/courses?query=free&page1\""
   ]
  },
  {
   "cell_type": "code",
   "execution_count": 8,
   "metadata": {},
   "outputs": [],
   "source": [
    "webpage = requests.get(url1,headers = headers).text"
   ]
  },
  {
   "cell_type": "code",
   "execution_count": 32,
   "metadata": {},
   "outputs": [],
   "source": [
    "soup = BeautifulSoup(webpage\n",
    "                     ,'lxml') # lxml = a html parser"
   ]
  },
  {
   "cell_type": "code",
   "execution_count": 11,
   "metadata": {},
   "outputs": [],
   "source": [
    "#print(soup.prettify())"
   ]
  },
  {
   "cell_type": "code",
   "execution_count": 41,
   "metadata": {},
   "outputs": [
    {
     "data": {
      "text/plain": [
       "'Business Analysis & Process Management'"
      ]
     },
     "execution_count": 41,
     "metadata": {},
     "output_type": "execute_result"
    }
   ],
   "source": [
    "# finding h1 tag\n",
    "soup.find('h3', class_ =\"cds-CommonCard-title\").text\n"
   ]
  },
  {
   "cell_type": "code",
   "execution_count": 60,
   "metadata": {},
   "outputs": [],
   "source": [
    "courses =soup.find_all('h3',class_ =\"cds-CommonCard-title\")"
   ]
  },
  {
   "cell_type": "code",
   "execution_count": 64,
   "metadata": {},
   "outputs": [],
   "source": [
    "title =[]\n",
    "for i in courses:\n",
    "    title.append(i.text.strip())"
   ]
  },
  {
   "cell_type": "code",
   "execution_count": 65,
   "metadata": {},
   "outputs": [
    {
     "data": {
      "text/plain": [
       "['Business Analysis & Process Management',\n",
       " 'Build a free website with WordPress',\n",
       " 'Introduction to Microsoft Excel',\n",
       " 'English for Common Interactions in the Workplace: Basic Level',\n",
       " 'Financial Markets',\n",
       " 'English for Career Development',\n",
       " 'Investment Risk Management',\n",
       " 'First Step Korean',\n",
       " 'Creative Thinking: Techniques and Tools for Success',\n",
       " 'Python for Data Science, AI & Development',\n",
       " 'Cybersecurity for Everyone',\n",
       " 'Introductory Human Physiology']"
      ]
     },
     "execution_count": 65,
     "metadata": {},
     "output_type": "execute_result"
    }
   ],
   "source": [
    "title"
   ]
  },
  {
   "cell_type": "code",
   "execution_count": 70,
   "metadata": {},
   "outputs": [],
   "source": [
    "# Mits faculty \n",
    "import pandas as pd\n",
    "import requests\n",
    "from bs4 import BeautifulSoup\n",
    "\n",
    "\n",
    "headers = {\n",
    "    'User-Agent': 'Mozilla/5.0 (Windows NT 10.0; Win64; x64) AppleWebKit/537.36 (KHTML, like Gecko) Chrome/91.0.4472.124 Safari/537.36'\n",
    "}\n",
    "url =\"https://web.mitsgwalior.in/all-faculty?types[0]=1\"\n",
    "\n",
    "response =requests.get(url,headers=headers)"
   ]
  },
  {
   "cell_type": "code",
   "execution_count": 73,
   "metadata": {},
   "outputs": [],
   "source": [
    "soup = BeautifulSoup(response.text,'lxml')"
   ]
  },
  {
   "cell_type": "code",
   "execution_count": 84,
   "metadata": {},
   "outputs": [
    {
     "name": "stdout",
     "output_type": "stream",
     "text": [
      "Aashi Singh Bhadouria\n",
      "Adarsh Singh Jadon\n",
      "AKANCHHA TIWARI\n",
      "AMIT KUMAR MANJHVAR\n",
      "ANKIT KUMAR\n",
      "ANKITA SENGAR\n",
      "Ar. Dhanashree Kulkarni\n",
      "Ar. Nupur Mishra\n",
      "Ar.Jaspreet Walia\n",
      "Arti Ahirwar\n",
      "Ashis Patra\n",
      "Ashvini Shrivastava\n",
      "Bhupendra Kumar Pandey\n",
      "DR GANESH CHANDRA\n",
      "Dr Jaydeep Singh Parmar\n",
      "Dr. A. K. Wadhwani\n",
      "Dr. Abhilash Shukla\n",
      "Dr. Abhilash Sonker\n",
      "Dr. Abhishek Bhatt\n",
      "DR. ABHISHEK DIXIT\n",
      "Dr. Aditya Dubey\n",
      "Dr. Aftab Ahmed Ansari\n",
      "Dr. Akash Kumar Shukla\n",
      "DR. AKHILESH TIWARI\n",
      "DR. ALOK SHARMA\n"
     ]
    }
   ],
   "source": [
    "faculty  = soup.find_all('li' ,class_ =\"list-group-item list-group-item-action\")\n",
    "for i in faculty:\n",
    "    print(i.text.strip())\n",
    "    \n",
    "    \n",
    "    "
   ]
  },
  {
   "cell_type": "code",
   "execution_count": 85,
   "metadata": {},
   "outputs": [],
   "source": [
    "for j in range(1,8):\n",
    "    headers = {\n",
    "    'User-Agent': 'Mozilla/5.0 (Windows NT 10.0; Win64; x64) AppleWebKit/537.36 (KHTML, like Gecko) Chrome/91.0.4472.124 Safari/537.36'\n",
    "}\n",
    "    url =\"https://web.mitsgwalior.in/all-faculty?types[0]=1\"\n",
    "\n",
    "    response =requests.get(url,headers=headers)\n",
    "    soup = BeautifulSoup(response.text,'lxml')\n",
    "    \n",
    "    faculty_name=[]\n",
    "    faculty  = soup.find_all('li' ,class_ =\"list-group-item list-group-item-action\")\n",
    "    for i in faculty:\n",
    "     faculty_name.append(i.text.strip())\n",
    "\n"
   ]
  },
  {
   "cell_type": "code",
   "execution_count": 86,
   "metadata": {},
   "outputs": [
    {
     "data": {
      "text/plain": [
       "25"
      ]
     },
     "execution_count": 86,
     "metadata": {},
     "output_type": "execute_result"
    }
   ],
   "source": [
    "len(faculty_name)"
   ]
  },
  {
   "cell_type": "code",
   "execution_count": 87,
   "metadata": {},
   "outputs": [
    {
     "data": {
      "text/plain": [
       "['Aashi Singh Bhadouria',\n",
       " 'Adarsh Singh Jadon',\n",
       " 'AKANCHHA TIWARI',\n",
       " 'AMIT KUMAR MANJHVAR',\n",
       " 'ANKIT KUMAR',\n",
       " 'ANKITA SENGAR',\n",
       " 'Ar. Dhanashree Kulkarni',\n",
       " 'Ar. Nupur Mishra',\n",
       " 'Ar.Jaspreet Walia',\n",
       " 'Arti Ahirwar',\n",
       " 'Ashis Patra',\n",
       " 'Ashvini Shrivastava',\n",
       " 'Bhupendra Kumar Pandey',\n",
       " 'DR GANESH CHANDRA',\n",
       " 'Dr Jaydeep Singh Parmar',\n",
       " 'Dr. A. K. Wadhwani',\n",
       " 'Dr. Abhilash Shukla',\n",
       " 'Dr. Abhilash Sonker',\n",
       " 'Dr. Abhishek Bhatt',\n",
       " 'DR. ABHISHEK DIXIT',\n",
       " 'Dr. Aditya Dubey',\n",
       " 'Dr. Aftab Ahmed Ansari',\n",
       " 'Dr. Akash Kumar Shukla',\n",
       " 'DR. AKHILESH TIWARI',\n",
       " 'DR. ALOK SHARMA']"
      ]
     },
     "execution_count": 87,
     "metadata": {},
     "output_type": "execute_result"
    }
   ],
   "source": [
    "faculty_name"
   ]
  },
  {
   "cell_type": "code",
   "execution_count": null,
   "metadata": {},
   "outputs": [],
   "source": []
  }
 ],
 "metadata": {
  "kernelspec": {
   "display_name": "Python 3",
   "language": "python",
   "name": "python3"
  },
  "language_info": {
   "codemirror_mode": {
    "name": "ipython",
    "version": 3
   },
   "file_extension": ".py",
   "mimetype": "text/x-python",
   "name": "python",
   "nbconvert_exporter": "python",
   "pygments_lexer": "ipython3",
   "version": "3.11.5"
  }
 },
 "nbformat": 4,
 "nbformat_minor": 2
}
